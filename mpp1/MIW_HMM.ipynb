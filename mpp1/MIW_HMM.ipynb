{
 "cells": [
  {
   "cell_type": "code",
   "execution_count": 18,
   "metadata": {},
   "outputs": [],
   "source": [
    "import random\n",
    "\n",
    "a = ['JOHN', 'ALICE', 'FLORENCE']\n",
    "d = [0.2, 0.5, 0.3] # 0.2+0.5+0.3=1.0"
   ]
  },
  {
   "cell_type": "code",
   "execution_count": 20,
   "metadata": {},
   "outputs": [
    {
     "data": {
      "text/plain": [
       "'ALICE'"
      ]
     },
     "execution_count": 20,
     "metadata": {},
     "output_type": "execute_result"
    }
   ],
   "source": [
    "random.choices(a, d)[0]"
   ]
  },
  {
   "cell_type": "code",
   "execution_count": 7,
   "metadata": {},
   "outputs": [
    {
     "name": "stdout",
     "output_type": "stream",
     "text": [
      "John tu jest\n",
      "Damiena tu nie ma\n"
     ]
    }
   ],
   "source": [
    "if 'JOHN' in a: print('John tu jest')\n",
    "if 'DAMIEN' not in a: print('Damiena tu nie ma')"
   ]
  },
  {
   "cell_type": "code",
   "execution_count": 21,
   "metadata": {},
   "outputs": [
    {
     "name": "stdout",
     "output_type": "stream",
     "text": [
      "================================================================================\n",
      "0: I am in state A\n",
      "0: I am in state A\n",
      "0: I am in state A\n",
      "0: I am in state C\n",
      "================================================================================\n",
      "0: I am in state A\n",
      "0: I am in state B\n",
      "0: I am in state B\n",
      "0: I am in state A\n",
      "0: I am in state B\n",
      "0: I am in state C\n",
      "================================================================================\n",
      "0: I am in state A\n",
      "0: I am in state B\n",
      "0: I am in state B\n",
      "0: I am in state C\n",
      "================================================================================\n",
      "0: I am in state A\n",
      "0: I am in state B\n",
      "0: I am in state A\n",
      "0: I am in state B\n",
      "0: I am in state B\n",
      "0: I am in state A\n",
      "0: I am in state B\n",
      "0: I am in state B\n",
      "0: I am in state B\n",
      "0: I am in state B\n",
      "0: I am in state C\n",
      "================================================================================\n",
      "0: I am in state A\n",
      "0: I am in state B\n",
      "0: I am in state B\n",
      "0: I am in state A\n",
      "0: I am in state A\n",
      "0: I am in state B\n",
      "0: I am in state A\n",
      "0: I am in state C\n"
     ]
    }
   ],
   "source": [
    "Q = ['A', 'B', 'C']\n",
    "A = ['C']\n",
    "q_0 = 'A'\n",
    "transitions = {\n",
    "    'A':{'targets':['A','B','C'], 'probs':[0.4, 0.5, 0.1]},\n",
    "    'B':{'targets':['A','B','C'], 'probs':[0.3, 0.5, 0.2]},\n",
    "    'C':{'targets':['C'], 'probs':[1.0]}\n",
    "}\n",
    "msgs = {'A': 'I am in state A',\n",
    "        'B': 'I am in state B',\n",
    "        'C': 'I am in state C'\n",
    "       }\n",
    "\n",
    "number_of_simulations = 5\n",
    "while number_of_simulations > 0:\n",
    "    number_of_simulations -= 1\n",
    "    print('='*80)\n",
    "    q = q_0\n",
    "    t = 0\n",
    "    print('{}: {}'.format(t, msgs[q]))\n",
    "    while q not in A:\n",
    "        q = random.choices(transitions[q]['targets'],transitions[q]['probs'])[0]\n",
    "        print('{}: {}'.format(t, msgs[q]))"
   ]
  },
  {
   "cell_type": "code",
   "execution_count": null,
   "metadata": {},
   "outputs": [],
   "source": []
  }
 ],
 "metadata": {
  "kernelspec": {
   "display_name": "Python 3",
   "language": "python",
   "name": "python3"
  },
  "language_info": {
   "codemirror_mode": {
    "name": "ipython",
    "version": 3
   },
   "file_extension": ".py",
   "mimetype": "text/x-python",
   "name": "python",
   "nbconvert_exporter": "python",
   "pygments_lexer": "ipython3",
   "version": "3.6.8"
  }
 },
 "nbformat": 4,
 "nbformat_minor": 2
}
