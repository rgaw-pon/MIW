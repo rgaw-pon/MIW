{
 "nbformat": 4,
 "nbformat_minor": 2,
 "metadata": {
  "language_info": {
   "name": "python",
   "codemirror_mode": {
    "name": "ipython",
    "version": 3
   },
   "version": "3.7.4-final"
  },
  "orig_nbformat": 2,
  "file_extension": ".py",
  "mimetype": "text/x-python",
  "name": "python",
  "npconvert_exporter": "python",
  "pygments_lexer": "ipython3",
  "version": 3,
  "kernelspec": {
   "name": "python3",
   "display_name": "Python 3"
  }
 },
 "cells": [
  {
   "cell_type": "markdown",
   "metadata": {
    "tags": [
     "outputPrepend"
    ]
   },
   "source": [
    "Importy i utworzone funkcje\n"
   ]
  },
  {
   "cell_type": "code",
   "execution_count": 11,
   "metadata": {},
   "outputs": [],
   "source": [
    "import random\n",
    "import numpy as np\n",
    "\n",
    "def determineWinner(qA, qB):\n",
    "    if(qA == qB):\n",
    "        return 'Noone'\n",
    "    if(qA == 'SCISSORS' and qB == 'PAPER') or \\\n",
    "        (qA == 'PAPER' and qB == 'ROCK') or \\\n",
    "            (qA == 'ROCK' and qB == 'SCISSORS'):\n",
    "        return 'A'\n",
    "    return 'B'\n",
    "\n",
    "\n",
    "def updateRanking(ranking, ranked, winner):\n",
    "    if(winner == ranked):\n",
    "        ranking['Won'] += 1\n",
    "        return\n",
    "    if(winner == 'Noone'):\n",
    "        ranking['Draw'] += 1\n",
    "        return\n",
    "    ranking['Lost'] += 1\n",
    ""
   ]
  },
  {
   "cell_type": "markdown",
   "metadata": {},
   "source": [
    "Algorytm \"uczenia się\": program uczy się na podstawie częstości występowania stanów użytkownika B, a dokładniej przy każdej iteracji zwiększa delikatnie prawdopodobieństwo przejścia do stanu wygrywającego z obecnym stanem B(dla każdego stanu w macierzy A). Wszystkie inne, sensowniejsze, deterministyczne rozwiązania niestety byłyby niezgodne z implementacją łańcuchów Markova. Jak widać, zysk takiego rozwiązania jest niewielki jeśli w ogóle obecny."
   ]
  },
  {
   "cell_type": "code",
   "execution_count": 12,
   "metadata": {},
   "outputs": [],
   "source": [
    "#self-'learning' algorithm\n",
    "def updateTransMatrix(matrix, counters, q, learningFactor):\n",
    "    rows = matrix.keys()\n",
    "    for row in rows:\n",
    "        i = 0\n",
    "        for state in matrix[row]['next']:\n",
    "            if (state == counters[q]):\n",
    "                if(not matrix[row]['probabilities'][i]+learningFactor > 1):\n",
    "                    matrix[row]['probabilities'][i] += learningFactor\n",
    "                    round(matrix[row]['probabilities'][i], 2)\n",
    "            else:\n",
    "                if(not matrix[row]['probabilities'][i]-learningFactor/(len(rows)-1) < 0):\n",
    "                    matrix[row]['probabilities'][i] -= learningFactor / \\\n",
    "                        (len(rows)-1)\n",
    "                    round(matrix[row]['probabilities'][i], 2)\n",
    "            i += 1"
   ]
  },
  {
   "cell_type": "markdown",
   "metadata": {},
   "source": [
    "Implementacja, symulacja i wypisanie"
   ]
  },
  {
   "cell_type": "code",
   "execution_count": 20,
   "metadata": {},
   "outputs": [
    {
     "output_type": "stream",
     "name": "stdout",
     "text": "========================================\nGame 0\nUser A has: SCISSORS and User B has: PAPER\nA wins!\n========================================\nGame 1\nUser A has: ROCK and User B has: ROCK\nNoone wins!\n========================================\nGame 2\nUser A has: SCISSORS and User B has: SCISSORS\nNoone wins!\n========================================\nGame 3\nUser A has: ROCK and User B has: PAPER\nB wins!\n========================================\nGame 4\nUser A has: PAPER and User B has: ROCK\nA wins!\n========================================\nGame 5\nUser A has: SCISSORS and User B has: SCISSORS\nNoone wins!\n========================================\nGame 6\nUser A has: PAPER and User B has: SCISSORS\nB wins!\n========================================\nGame 7\nUser A has: ROCK and User B has: PAPER\nB wins!\n========================================\nGame 8\nUser A has: PAPER and User B has: SCISSORS\nB wins!\n========================================\nGame 9\nUser A has: ROCK and User B has: PAPER\nB wins!\n========================================\nGame 10\nUser A has: ROCK and User B has: PAPER\nB wins!\n========================================\nGame 11\nUser A has: SCISSORS and User B has: ROCK\nB wins!\n========================================\nGame 12\nUser A has: ROCK and User B has: PAPER\nB wins!\n========================================\nGame 13\nUser A has: SCISSORS and User B has: ROCK\nB wins!\n========================================\nGame 14\nUser A has: ROCK and User B has: ROCK\nNoone wins!\n========================================\nGame 15\nUser A has: SCISSORS and User B has: PAPER\nA wins!\n========================================\nGame 16\nUser A has: PAPER and User B has: SCISSORS\nB wins!\n========================================\nGame 17\nUser A has: SCISSORS and User B has: ROCK\nB wins!\n========================================\nGame 18\nUser A has: ROCK and User B has: ROCK\nNoone wins!\n========================================\nGame 19\nUser A has: ROCK and User B has: SCISSORS\nA wins!\n========================================\nGame 20\nUser A has: SCISSORS and User B has: SCISSORS\nNoone wins!\n========================================\nGame 21\nUser A has: ROCK and User B has: ROCK\nNoone wins!\n========================================\nGame 22\nUser A has: SCISSORS and User B has: ROCK\nB wins!\n========================================\nGame 23\nUser A has: SCISSORS and User B has: SCISSORS\nNoone wins!\n========================================\nGame 24\nUser A has: ROCK and User B has: PAPER\nB wins!\n========================================\nGame 25\nUser A has: SCISSORS and User B has: ROCK\nB wins!\n========================================\nGame 26\nUser A has: PAPER and User B has: PAPER\nNoone wins!\n========================================\nGame 27\nUser A has: ROCK and User B has: ROCK\nNoone wins!\n========================================\nGame 28\nUser A has: SCISSORS and User B has: PAPER\nA wins!\n========================================\nGame 29\nUser A has: PAPER and User B has: ROCK\nA wins!\n========================================\nGame 30\nUser A has: ROCK and User B has: SCISSORS\nA wins!\n========================================\nGame 31\nUser A has: SCISSORS and User B has: ROCK\nB wins!\n========================================\nGame 32\nUser A has: ROCK and User B has: PAPER\nB wins!\n========================================\nGame 33\nUser A has: SCISSORS and User B has: ROCK\nB wins!\n========================================\nGame 34\nUser A has: ROCK and User B has: PAPER\nB wins!\n========================================\nGame 35\nUser A has: SCISSORS and User B has: ROCK\nB wins!\n========================================\nGame 36\nUser A has: SCISSORS and User B has: ROCK\nB wins!\n========================================\nGame 37\nUser A has: PAPER and User B has: SCISSORS\nB wins!\n========================================\nGame 38\nUser A has: ROCK and User B has: ROCK\nNoone wins!\n========================================\nGame 39\nUser A has: SCISSORS and User B has: PAPER\nA wins!\n========================================\nGame 40\nUser A has: SCISSORS and User B has: ROCK\nB wins!\n========================================\nGame 41\nUser A has: SCISSORS and User B has: SCISSORS\nNoone wins!\n========================================\nGame 42\nUser A has: ROCK and User B has: SCISSORS\nA wins!\n========================================\nGame 43\nUser A has: SCISSORS and User B has: ROCK\nB wins!\n========================================\nGame 44\nUser A has: ROCK and User B has: PAPER\nB wins!\n========================================\nGame 45\nUser A has: SCISSORS and User B has: ROCK\nB wins!\n========================================\nGame 46\nUser A has: ROCK and User B has: PAPER\nB wins!\n========================================\nGame 47\nUser A has: SCISSORS and User B has: SCISSORS\nNoone wins!\n========================================\nGame 48\nUser A has: ROCK and User B has: PAPER\nB wins!\n========================================\nGame 49\nUser A has: PAPER and User B has: ROCK\nA wins!\n========================================\nUser A:\nWon: 20.0%\nDraw: 26.0%\nLost: 54.0%\n========================================\n[['userA' 'SCISSORS' 'PAPER' 'ROCK']\n ['SCISSORS' '0.1' '0.3' '0.6']\n ['PAPER' '0.3' '0.3' '0.4']\n ['ROCK' '0.5' '0.3' '0.2']]\n========================================\n[['userB' 'SCISSORS' 'PAPER' 'ROCK']\n ['SCISSORS' '0.35' '0.45' '0.2']\n ['PAPER' '0.2' '0.05' '0.75']\n ['ROCK' '0.3' '0.5' '0.2']]\n========================================\nGame 0\nUser A has: SCISSORS and User B has: PAPER\nA wins!\n========================================\nGame 1\nUser A has: PAPER and User B has: ROCK\nA wins!\n========================================\nGame 2\nUser A has: SCISSORS and User B has: PAPER\nA wins!\n========================================\nGame 3\nUser A has: ROCK and User B has: ROCK\nNoone wins!\n========================================\nGame 4\nUser A has: PAPER and User B has: PAPER\nNoone wins!\n========================================\nGame 5\nUser A has: PAPER and User B has: SCISSORS\nB wins!\n========================================\nGame 6\nUser A has: ROCK and User B has: PAPER\nB wins!\n========================================\nGame 7\nUser A has: SCISSORS and User B has: ROCK\nB wins!\n========================================\nGame 8\nUser A has: PAPER and User B has: PAPER\nNoone wins!\n========================================\nGame 9\nUser A has: PAPER and User B has: ROCK\nA wins!\n========================================\nGame 10\nUser A has: SCISSORS and User B has: SCISSORS\nNoone wins!\n========================================\nGame 11\nUser A has: ROCK and User B has: ROCK\nNoone wins!\n========================================\nGame 12\nUser A has: ROCK and User B has: PAPER\nB wins!\n========================================\nGame 13\nUser A has: PAPER and User B has: ROCK\nA wins!\n========================================\nGame 14\nUser A has: SCISSORS and User B has: ROCK\nB wins!\n========================================\nGame 15\nUser A has: ROCK and User B has: PAPER\nB wins!\n========================================\nGame 16\nUser A has: PAPER and User B has: SCISSORS\nB wins!\n========================================\nGame 17\nUser A has: SCISSORS and User B has: SCISSORS\nNoone wins!\n========================================\nGame 18\nUser A has: SCISSORS and User B has: SCISSORS\nNoone wins!\n========================================\nGame 19\nUser A has: PAPER and User B has: PAPER\nNoone wins!\n========================================\nGame 20\nUser A has: PAPER and User B has: ROCK\nA wins!\n========================================\nGame 21\nUser A has: PAPER and User B has: SCISSORS\nB wins!\n========================================\nGame 22\nUser A has: PAPER and User B has: PAPER\nNoone wins!\n========================================\nGame 23\nUser A has: ROCK and User B has: ROCK\nNoone wins!\n========================================\nGame 24\nUser A has: PAPER and User B has: ROCK\nA wins!\n========================================\nGame 25\nUser A has: SCISSORS and User B has: SCISSORS\nNoone wins!\n========================================\nGame 26\nUser A has: PAPER and User B has: SCISSORS\nB wins!\n========================================\nGame 27\nUser A has: PAPER and User B has: PAPER\nNoone wins!\n========================================\nGame 28\nUser A has: SCISSORS and User B has: ROCK\nB wins!\n========================================\nGame 29\nUser A has: PAPER and User B has: PAPER\nNoone wins!\n========================================\nGame 30\nUser A has: SCISSORS and User B has: ROCK\nB wins!\n========================================\nGame 31\nUser A has: ROCK and User B has: ROCK\nNoone wins!\n========================================\nGame 32\nUser A has: PAPER and User B has: SCISSORS\nB wins!\n========================================\nGame 33\nUser A has: ROCK and User B has: SCISSORS\nA wins!\n========================================\nGame 34\nUser A has: SCISSORS and User B has: SCISSORS\nNoone wins!\n========================================\nGame 35\nUser A has: ROCK and User B has: SCISSORS\nA wins!\n========================================\nGame 36\nUser A has: ROCK and User B has: PAPER\nB wins!\n========================================\nGame 37\nUser A has: SCISSORS and User B has: ROCK\nB wins!\n========================================\nGame 38\nUser A has: PAPER and User B has: SCISSORS\nB wins!\n========================================\nGame 39\nUser A has: PAPER and User B has: SCISSORS\nB wins!\n========================================\nGame 40\nUser A has: ROCK and User B has: ROCK\nNoone wins!\n========================================\nGame 41\nUser A has: SCISSORS and User B has: PAPER\nA wins!\n========================================\nGame 42\nUser A has: ROCK and User B has: ROCK\nNoone wins!\n========================================\nGame 43\nUser A has: SCISSORS and User B has: SCISSORS\nNoone wins!\n========================================\nGame 44\nUser A has: PAPER and User B has: SCISSORS\nB wins!\n========================================\nGame 45\nUser A has: PAPER and User B has: ROCK\nA wins!\n========================================\nGame 46\nUser A has: PAPER and User B has: PAPER\nNoone wins!\n========================================\nGame 47\nUser A has: ROCK and User B has: ROCK\nNoone wins!\n========================================\nGame 48\nUser A has: PAPER and User B has: ROCK\nA wins!\n========================================\nGame 49\nUser A has: ROCK and User B has: ROCK\nNoone wins!\n========================================\nUser A:\nWon: 24.0%\nDraw: 42.0%\nLost: 34.0%\n========================================\n[['userA' 'SCISSORS' 'PAPER' 'ROCK']\n ['SCISSORS' '1.734723475976807e-16' '0.49999999999999906'\n  '0.5599999999999995']\n ['PAPER' '0.13999999999999946' '0.49999999999999906'\n  '0.35999999999999927']\n ['ROCK' '0.3399999999999997' '0.49999999999999906' '0.16000000000000011']]\n========================================\n[['userB' 'SCISSORS' 'PAPER' 'ROCK']\n ['SCISSORS' '0.35' '0.45' '0.2']\n ['PAPER' '0.2' '0.05' '0.75']\n ['ROCK' '0.3' '0.5' '0.2']]\n"
    }
   ],
   "source": [
    "\n",
    "states = ['SCISSORS', 'PAPER', 'ROCK']\n",
    "# setting the default states with exemplary values\n",
    "qA_0 = 'SCISSORS'\n",
    "qB_0 = 'PAPER'\n",
    "\n",
    "counters = {\n",
    "    'PAPER': 'SCISSORS',\n",
    "    'SCISSORS': 'ROCK',\n",
    "    'ROCK': 'PAPER'\n",
    "}\n",
    "\n",
    "# initializing default transition 'matrixes' with exemplary values\n",
    "transitionsA = {\n",
    "    'SCISSORS': {'next': ['SCISSORS', 'PAPER', 'ROCK'], 'probabilities': [0.1, 0.3, 0.6]},\n",
    "    'PAPER': {'next': ['SCISSORS', 'PAPER', 'ROCK'], 'probabilities': [0.3, 0.3, 0.4]},\n",
    "    'ROCK': {'next': ['SCISSORS', 'PAPER', 'ROCK'], 'probabilities': [0.5, 0.3, 0.2]}\n",
    "}\n",
    "transitionsB = {\n",
    "    'SCISSORS': {'next': ['SCISSORS', 'PAPER', 'ROCK'], 'probabilities': [0.35, 0.45, 0.2]},\n",
    "    'PAPER': {'next': ['SCISSORS', 'PAPER', 'ROCK'], 'probabilities': [0.2, 0.05, 0.75]},\n",
    "    'ROCK': {'next': ['SCISSORS', 'PAPER', 'ROCK'], 'probabilities': [0.3, 0.5, 0.2]}\n",
    "}\n",
    "\n",
    "for i in range(2):\n",
    "    #two simulations, one with the self-learning, one without    \n",
    "    aStats = {\n",
    "        'Won': 0,\n",
    "        'Draw': 0,\n",
    "        'Lost': 0\n",
    "    }\n",
    "\n",
    "    # setting the simulation\n",
    "    qA = qA_0\n",
    "    qB = qB_0\n",
    "    simulation_number = 50\n",
    "\n",
    "    for j in range(simulation_number):\n",
    "        # determining winner\n",
    "        winner = determineWinner(qA, qB)\n",
    "        updateRanking(aStats, 'A', winner)\n",
    "\n",
    "        # iteration printout\n",
    "        print('='*40)\n",
    "        print('Game {}'.format(j))\n",
    "        print('User A has: {} and User B has: {}'.format(qA, qB))\n",
    "        print(winner+' wins!')\n",
    "\n",
    "        # self-'learning'\n",
    "        if(i==1):\n",
    "            updateTransMatrix(transitionsA, counters, qB, 0.04)\n",
    "\n",
    "        # progressing the chain\n",
    "        qA = random.choices(transitionsA[qA]['next'],\n",
    "                            transitionsA[qA]['probabilities'])[0]\n",
    "        qB = random.choices(transitionsB[qB]['next'],\n",
    "                            transitionsB[qB]['probabilities'])[0]\n",
    "\n",
    "    print('='*40)\n",
    "    print('User A:\\r\\nWon: {}%\\r\\nDraw: {}%\\r\\nLost: {}%'\n",
    "            .format(aStats['Won']*100/simulation_number,\n",
    "                    aStats['Draw']*100/simulation_number,\n",
    "                aStats['Lost']*100/simulation_number))\n",
    "\n",
    "    print('='*40)\n",
    "    # converting to genuine matrixes for printing\n",
    "    a = np.array([\n",
    "        ['userA', 'SCISSORS', 'PAPER', 'ROCK'],\n",
    "        ['SCISSORS', transitionsA['SCISSORS']['probabilities'][0], transitionsA['SCISSORS']\n",
    "            ['probabilities'][1], transitionsA['SCISSORS']['probabilities'][2]],\n",
    "        ['PAPER', transitionsA['PAPER']['probabilities'][0], transitionsA['PAPER']\n",
    "            ['probabilities'][1], transitionsA['PAPER']['probabilities'][2]],\n",
    "        ['ROCK', transitionsA['ROCK']['probabilities'][0], transitionsA['ROCK']\n",
    "            ['probabilities'][1], transitionsA['ROCK']['probabilities'][2]]\n",
    "    ])\n",
    "    b = np.array([\n",
    "        ['userB', 'SCISSORS', 'PAPER', 'ROCK'],\n",
    "        ['SCISSORS', transitionsB['SCISSORS']['probabilities'][0], transitionsB['SCISSORS']\n",
    "            ['probabilities'][1], transitionsB['SCISSORS']['probabilities'][2]],\n",
    "        ['PAPER', transitionsB['PAPER']['probabilities'][0], transitionsB['PAPER']\n",
    "            ['probabilities'][1], transitionsB['PAPER']['probabilities'][2]],\n",
    "        ['ROCK', transitionsB['ROCK']['probabilities'][0], transitionsB['ROCK']\n",
    "            ['probabilities'][1], transitionsB['ROCK']['probabilities'][2]]\n",
    "    ])\n",
    "    print(a)\n",
    "    print('='*40)\n",
    "    print(b)\n",
    ""
   ]
  },
  {
   "cell_type": "code",
   "execution_count": null,
   "metadata": {},
   "outputs": [],
   "source": []
  }
 ]
}