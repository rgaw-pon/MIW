{
 "cells": [
  {
   "cell_type": "code",
   "execution_count": 3,
   "metadata": {},
   "outputs": [],
   "source": [
    "from sklearn.datasets import load_iris\n",
    "import numpy as np"
   ]
  },
  {
   "cell_type": "code",
   "execution_count": 4,
   "metadata": {},
   "outputs": [],
   "source": [
    "iris = load_iris()\n",
    "x = iris.data\n",
    "y = iris.target\n",
    "x_names = iris.feature_names\n",
    "y_names = iris.target_names"
   ]
  },
  {
   "cell_type": "code",
   "execution_count": 5,
   "metadata": {},
   "outputs": [],
   "source": [
    "def get_Gini(y):\n",
    "    instances = np.bincount(y)\n",
    "    total = np.sum(instances)\n",
    "    return 1.0 - np.sum(np.power(instances/total,2))\n",
    "\n",
    "def get_Entropy(y):\n",
    "    instances = np.bincount(y)\n",
    "    total = np.sum(instances)\n",
    "    p = instances / total\n",
    "    return 0.0 - np.sum(np.log(p)*p)"
   ]
  },
  {
   "cell_type": "code",
   "execution_count": 6,
   "metadata": {},
   "outputs": [
    {
     "name": "stdout",
     "output_type": "stream",
     "text": [
      "Gini impurity = 0.667\n",
      "Entropy impurity = 1.099\n"
     ]
    }
   ],
   "source": [
    "print('Gini impurity = {:.3f}'.format(get_Gini(y)))\n",
    "print('Entropy impurity = {:.3f}'.format(get_Entropy(y)))"
   ]
  },
  {
   "cell_type": "code",
   "execution_count": 7,
   "metadata": {},
   "outputs": [],
   "source": [
    "def get_class_for_node(y):\n",
    "    instances = np.bincount(y)\n",
    "    return np.argmax(instances, axis=0)"
   ]
  },
  {
   "cell_type": "code",
   "execution_count": 8,
   "metadata": {},
   "outputs": [
    {
     "name": "stdout",
     "output_type": "stream",
     "text": [
      "Class assigned = setosa\n"
     ]
    }
   ],
   "source": [
    "print('Class assigned = {}'.format(y_names[get_class_for_node(y)]))"
   ]
  },
  {
   "cell_type": "code",
   "execution_count": 9,
   "metadata": {},
   "outputs": [],
   "source": [
    "def create_child_nodes(x, y, feature, threshold):\n",
    "    x_l = []\n",
    "    y_l = []\n",
    "    x_r = []\n",
    "    y_r = []\n",
    "    for features, classification in zip(x,y):\n",
    "        if features[feature] <= threshold:\n",
    "            x_l.append(features)\n",
    "            y_l.append(classification)\n",
    "        else:\n",
    "            x_r.append(features)\n",
    "            y_r.append(classification)\n",
    "    return np.asarray(x_l), np.asarray(y_l, dtype=np.int64), np.asarray(x_r), np.asarray(y_r, dtype=np.int64)\n",
    "\n",
    "def get_score(y, y_l, y_r, impurity_measure):\n",
    "    score_left = impurity_measure(y_l)*y_l.shape[0]/y.shape[0]\n",
    "    score_right = impurity_measure(y_r)*y_r.shape[0]/y.shape[0]\n",
    "    return score_left + score_right\n",
    "\n",
    "def split_node_node(x, y, granulation, impurity_measure):\n",
    "    x_l_best = None\n",
    "    y_l_best = None\n",
    "    x_r_best = None\n",
    "    y_r_best = None\n",
    "    score_best = None\n",
    "    feature_best = None\n",
    "    threshold_best = None\n",
    "    for feature in range(x.shape[1]):\n",
    "        start = np.min(x[:,feature])\n",
    "        end = np.max(x[:,feature])\n",
    "        step = (end - start) / granulation \n",
    "        for threshold in np.arange(start, end, step):\n",
    "            x_l, y_l, x_r, y_r = create_child_nodes(x, y, feature, threshold)\n",
    "            score = get_score(y, y_l, y_r, impurity_measure)\n",
    "            #print('{} - {} => {}'.format(x_names[feature], threshold, score))\n",
    "            if score_best is None or score < score_best:\n",
    "                x_l_best = x_l\n",
    "                y_l_best = y_l\n",
    "                x_r_best = x_r\n",
    "                y_r_best = y_r\n",
    "                score_best = score\n",
    "                feature_best = feature\n",
    "                threshold_best = threshold\n",
    "    return x_l_best, y_l_best, x_r_best, y_r_best, score_best, feature_best, threshold_best\n",
    "                "
   ]
  },
  {
   "cell_type": "code",
   "execution_count": 10,
   "metadata": {},
   "outputs": [
    {
     "name": "stdout",
     "output_type": "stream",
     "text": [
      "Selected feature = petal length (cm)\n",
      "Selected threshold = 2.18\n",
      "Final score = 0.3333333333333333\n",
      "Gini impurity (left node) = 0.000\n",
      "Class assigned (left node) = setosa\n",
      "Gini impurity (right node) = 0.500\n",
      "Class assigned (right node) = versicolor\n"
     ]
    }
   ],
   "source": [
    "x_l, y_l, x_r, y_r, score, feature, threshold = split_node_node(x, y, 10, get_Gini)\n",
    "print('Selected feature = {}'.format(x_names[feature]))\n",
    "print('Selected threshold = {}'.format(threshold))\n",
    "print('Final score = {}'.format(score))\n",
    "print('Gini impurity (left node) = {:.3f}'.format(get_Gini(y_l)))\n",
    "print('Class assigned (left node) = {}'.format(y_names[get_class_for_node(y_l)]))\n",
    "print('Gini impurity (right node) = {:.3f}'.format(get_Gini(y_r)))\n",
    "print('Class assigned (right node) = {}'.format(y_names[get_class_for_node(y_r)]))"
   ]
  },
  {
   "cell_type": "code",
   "execution_count": null,
   "metadata": {},
   "outputs": [],
   "source": []
  }
 ],
 "metadata": {
  "kernelspec": {
   "display_name": "Python 3",
   "language": "python",
   "name": "python3"
  },
  "language_info": {
   "codemirror_mode": {
    "name": "ipython",
    "version": 3
   },
   "file_extension": ".py",
   "mimetype": "text/x-python",
   "name": "python",
   "nbconvert_exporter": "python",
   "pygments_lexer": "ipython3",
   "version": "3.6.8"
  }
 },
 "nbformat": 4,
 "nbformat_minor": 2
}
