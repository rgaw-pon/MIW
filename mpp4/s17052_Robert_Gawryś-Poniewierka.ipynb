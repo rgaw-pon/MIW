{
 "cells": [
  {
   "cell_type": "code",
   "execution_count": 2,
   "metadata": {},
   "outputs": [
    {
     "output_type": "stream",
     "name": "stdout",
     "text": "Initial arguments\n[-2.0, -0.2, -0.1, 0.7, 2.1, -2.9, 2.7, -2.8, 1.0, -0.5, 2.8, 2.4, -0.9, -2.4, -1.4, 1.2, -2.5, 2.3, -1.526557e-15, -0.6, 1.8, 2.5, 3.0, 2.6, 1.1, -2.2, -1.0, 0.2, 0.9, 2.2, 2.0, 0.8, 1.5, 0.6, -1.7, 0.3, -0.8, 1.3, -1.9]\ngeneral formula: y=a+b*x\nb formula: E[(xi-xMean)(yi-yMean)]/E[(xi-xMean)^2]\na formula: yMean-b*xMean\nb: 0.018644295469687194\na: 0.9836844611491484\nAverage mean squared error on the test data 0.41481856977896564\n"
    },
    {
     "output_type": "display_data",
     "data": {
      "text/plain": "<Figure size 640x480 with 1 Axes>"
     },
     "metadata": {}
    }
   ],
   "source": [
    "#import potrzebnych bibliotek\n",
    "import numpy as np \n",
    "from sklearn.model_selection import train_test_split\n",
    "from matplotlib import pyplot as plt\n",
    "\n",
    "#zaladowanie i podzial danych na zbiór testowy i treningowy  35%-65%\n",
    "source=\"dane3.txt\"\n",
    "x=[]\n",
    "y=[]\n",
    "\n",
    "with open(source) as lines:\n",
    "    for line in lines:\n",
    "        args = line.split(\" \")\n",
    "        x.append(float(args[0]))\n",
    "        y.append(float(args[1]))\n",
    "\n",
    "x_train, x_test, y_train, y_test = train_test_split(x, y, train_size=0.65)\n",
    "\n",
    "#wypisuje poczatkowa macierz argumentow\n",
    "print('Initial arguments')\n",
    "print(x_train)\n",
    "#prosty model liniowy\n",
    "n=len(x_train)\n",
    "#licze srednia x i y\n",
    "x_mean=np.mean(x_train)\n",
    "y_mean=np.mean(y_train)\n",
    "b_nominator=0\n",
    "b_denominator=0\n",
    "#wypisanie rownan\n",
    "print('general formula: y=a+b*x')\n",
    "print('b formula: E[(xi-xMean)(yi-yMean)]/E[(xi-xMean)^2]')\n",
    "print('a formula: yMean-b*xMean')\n",
    "for i in range(n):\n",
    "    b_nominator+=(x_train[i]-x_mean)*(y_train[i]-y_mean)\n",
    "    b_denominator+=np.square(x_train[i]-x_mean)\n",
    "\n",
    "b=(b_nominator/b_denominator).item()\n",
    "a=(y_mean-(b*x_mean)).item()\n",
    "\n",
    "print('b: {}'.format(b))\n",
    "print('a: {}'.format(a))\n",
    "#'krzywa treningowa'\n",
    "y_train_func=a+b*np.array(x_train).astype(float)\n",
    "#wyniki klasyfikacji\n",
    "y_pred=a+b*np.array(x_test).astype(float)\n",
    "\n",
    "#wyliczanie bledu\n",
    "delta_square_sum=0\n",
    "for i in range(len(y_test)):\n",
    "    delta_square_sum+=np.square(y_pred[i]-y_test[i])\n",
    "\n",
    "error = delta_square_sum/len(y_test) \n",
    "print('Average mean squared error on the test data {}'.format(error))\n",
    "\n",
    "#wykreslenie wyniku\n",
    "plt.xlabel('x')\n",
    "plt.ylabel('y')\n",
    "plt.scatter(x_test, y_test, color='green', label='Test data')\n",
    "#poniewaz dane train_test_split zwrócone sa w losowej kolejnosci, sortuje je zeby matplotlib dobrze wykreslil funkcje\n",
    "indexes=np.argsort(x_train)\n",
    "plt.plot(np.array(x_train)[indexes], np.array(y_train_func)[indexes], color='purple', label='Train curve(derived)')\n",
    "plt.legend()\n",
    "plt.show()\n"
   ]
  },
  {
   "cell_type": "code",
   "execution_count": 5,
   "metadata": {},
   "outputs": [
    {
     "output_type": "stream",
     "name": "stdout",
     "text": "Formula for function coefficients: (X^T * X)^-1 * X^T * y\nInitial arguments matrix\n[[ 1.00000000e+00 -2.00000000e+00  4.00000000e+00 -8.00000000e+00\n   1.60000000e+01 -3.20000000e+01  6.40000000e+01]\n [ 1.00000000e+00 -2.00000000e-01  4.00000000e-02 -8.00000000e-03\n   1.60000000e-03 -3.20000000e-04  6.40000000e-05]\n [ 1.00000000e+00 -1.00000000e-01  1.00000000e-02 -1.00000000e-03\n   1.00000000e-04 -1.00000000e-05  1.00000000e-06]\n [ 1.00000000e+00  7.00000000e-01  4.90000000e-01  3.43000000e-01\n   2.40100000e-01  1.68070000e-01  1.17649000e-01]\n [ 1.00000000e+00  2.10000000e+00  4.41000000e+00  9.26100000e+00\n   1.94481000e+01  4.08410100e+01  8.57661210e+01]\n [ 1.00000000e+00 -2.90000000e+00  8.41000000e+00 -2.43890000e+01\n   7.07281000e+01 -2.05111490e+02  5.94823321e+02]\n [ 1.00000000e+00  2.70000000e+00  7.29000000e+00  1.96830000e+01\n   5.31441000e+01  1.43489070e+02  3.87420489e+02]\n [ 1.00000000e+00 -2.80000000e+00  7.84000000e+00 -2.19520000e+01\n   6.14656000e+01 -1.72103680e+02  4.81890304e+02]\n [ 1.00000000e+00  1.00000000e+00  1.00000000e+00  1.00000000e+00\n   1.00000000e+00  1.00000000e+00  1.00000000e+00]\n [ 1.00000000e+00 -5.00000000e-01  2.50000000e-01 -1.25000000e-01\n   6.25000000e-02 -3.12500000e-02  1.56250000e-02]\n [ 1.00000000e+00  2.80000000e+00  7.84000000e+00  2.19520000e+01\n   6.14656000e+01  1.72103680e+02  4.81890304e+02]\n [ 1.00000000e+00  2.40000000e+00  5.76000000e+00  1.38240000e+01\n   3.31776000e+01  7.96262400e+01  1.91102976e+02]\n [ 1.00000000e+00 -9.00000000e-01  8.10000000e-01 -7.29000000e-01\n   6.56100000e-01 -5.90490000e-01  5.31441000e-01]\n [ 1.00000000e+00 -2.40000000e+00  5.76000000e+00 -1.38240000e+01\n   3.31776000e+01 -7.96262400e+01  1.91102976e+02]\n [ 1.00000000e+00 -1.40000000e+00  1.96000000e+00 -2.74400000e+00\n   3.84160000e+00 -5.37824000e+00  7.52953600e+00]\n [ 1.00000000e+00  1.20000000e+00  1.44000000e+00  1.72800000e+00\n   2.07360000e+00  2.48832000e+00  2.98598400e+00]\n [ 1.00000000e+00 -2.50000000e+00  6.25000000e+00 -1.56250000e+01\n   3.90625000e+01 -9.76562500e+01  2.44140625e+02]\n [ 1.00000000e+00  2.30000000e+00  5.29000000e+00  1.21670000e+01\n   2.79841000e+01  6.43634300e+01  1.48035889e+02]\n [ 1.00000000e+00 -1.52655700e-15  2.33037627e-30 -3.55745221e-45\n   5.43065358e-60 -8.29020224e-75  1.26554663e-89]\n [ 1.00000000e+00 -6.00000000e-01  3.60000000e-01 -2.16000000e-01\n   1.29600000e-01 -7.77600000e-02  4.66560000e-02]\n [ 1.00000000e+00  1.80000000e+00  3.24000000e+00  5.83200000e+00\n   1.04976000e+01  1.88956800e+01  3.40122240e+01]\n [ 1.00000000e+00  2.50000000e+00  6.25000000e+00  1.56250000e+01\n   3.90625000e+01  9.76562500e+01  2.44140625e+02]\n [ 1.00000000e+00  3.00000000e+00  9.00000000e+00  2.70000000e+01\n   8.10000000e+01  2.43000000e+02  7.29000000e+02]\n [ 1.00000000e+00  2.60000000e+00  6.76000000e+00  1.75760000e+01\n   4.56976000e+01  1.18813760e+02  3.08915776e+02]\n [ 1.00000000e+00  1.10000000e+00  1.21000000e+00  1.33100000e+00\n   1.46410000e+00  1.61051000e+00  1.77156100e+00]\n [ 1.00000000e+00 -2.20000000e+00  4.84000000e+00 -1.06480000e+01\n   2.34256000e+01 -5.15363200e+01  1.13379904e+02]\n [ 1.00000000e+00 -1.00000000e+00  1.00000000e+00 -1.00000000e+00\n   1.00000000e+00 -1.00000000e+00  1.00000000e+00]\n [ 1.00000000e+00  2.00000000e-01  4.00000000e-02  8.00000000e-03\n   1.60000000e-03  3.20000000e-04  6.40000000e-05]\n [ 1.00000000e+00  9.00000000e-01  8.10000000e-01  7.29000000e-01\n   6.56100000e-01  5.90490000e-01  5.31441000e-01]\n [ 1.00000000e+00  2.20000000e+00  4.84000000e+00  1.06480000e+01\n   2.34256000e+01  5.15363200e+01  1.13379904e+02]\n [ 1.00000000e+00  2.00000000e+00  4.00000000e+00  8.00000000e+00\n   1.60000000e+01  3.20000000e+01  6.40000000e+01]\n [ 1.00000000e+00  8.00000000e-01  6.40000000e-01  5.12000000e-01\n   4.09600000e-01  3.27680000e-01  2.62144000e-01]\n [ 1.00000000e+00  1.50000000e+00  2.25000000e+00  3.37500000e+00\n   5.06250000e+00  7.59375000e+00  1.13906250e+01]\n [ 1.00000000e+00  6.00000000e-01  3.60000000e-01  2.16000000e-01\n   1.29600000e-01  7.77600000e-02  4.66560000e-02]\n [ 1.00000000e+00 -1.70000000e+00  2.89000000e+00 -4.91300000e+00\n   8.35210000e+00 -1.41985700e+01  2.41375690e+01]\n [ 1.00000000e+00  3.00000000e-01  9.00000000e-02  2.70000000e-02\n   8.10000000e-03  2.43000000e-03  7.29000000e-04]\n [ 1.00000000e+00 -8.00000000e-01  6.40000000e-01 -5.12000000e-01\n   4.09600000e-01 -3.27680000e-01  2.62144000e-01]\n [ 1.00000000e+00  1.30000000e+00  1.69000000e+00  2.19700000e+00\n   2.85610000e+00  3.71293000e+00  4.82680900e+00]\n [ 1.00000000e+00 -1.90000000e+00  3.61000000e+00 -6.85900000e+00\n   1.30321000e+01 -2.47609900e+01  4.70458810e+01]]\nCoefficients(calculated):\n[-0.05699417 -0.03394286  1.03985076  0.0213126  -0.1710634  -0.00246232\n  0.00691743]\nAverage mean squared error on the test data 0.015593848783453296\n"
    },
    {
     "output_type": "display_data",
     "data": {
      "text/plain": "<Figure size 432x288 with 1 Axes>",
      "image/png": "[encoded data removed]"
     },
     "metadata": {
      "needs_background": "light"
     }
    }
   ],
   "source": [
    "#model wielomianowy\n",
    "\n",
    "print('Formula for function coefficients: (X^T * X)^-1 * X^T * y')\n",
    "#szósty stopien wybrany na podstawie empirycznych testow(m.in od ktorego momentu overfitting zaczyna byc widoczny), wygladu przebiegu funkcji i intuicji :)\n",
    "N=6 #zakladam ze N>=1\n",
    "columns=[]\n",
    "for i in range(N+1):\n",
    "    columns.append(np.power(x_train, i))\n",
    "X=np.c_[tuple(columns)]   \n",
    "#wypisuje poczatkowa macierz argumentow\n",
    "print('Initial arguments matrix')\n",
    "print(X)\n",
    "step1 = np.linalg.inv(X.T@X)\n",
    "step2 = step1@X.T\n",
    "coefficients = step2@y_train\n",
    "#wypisuje wspolczynniki\n",
    "print('Coefficients(calculated):')\n",
    "print(coefficients)\n",
    "\n",
    "#'krzywa treningowa'\n",
    "y_pred=coefficients[0]+coefficients[1]*np.array(x_test)\n",
    "#wyniki klasyfikacji\n",
    "y_train_func=coefficients[0]+coefficients[1]*np.array(x_train)\n",
    "for i in range(2,N+1):\n",
    "    y_train_func+=coefficients[i]*np.array(np.power(x_train,i))\n",
    "    y_pred+=coefficients[i]*np.array(np.power(x_test,i))\n",
    "\n",
    "#wyliczanie bledu\n",
    "error=np.sum(np.square(y_pred-y_test))/len(y_test)\n",
    "print('Average mean squared error on the test data {}'.format(error))\n",
    "\n",
    "#wykreslenie wynikow\n",
    "plt.xlabel('x')\n",
    "plt.ylabel('y')\n",
    "plt.scatter(x_test, y_test, color='green', label='Test data')\n",
    "#poniewaz dane train_test_split zwrócone sa w losowej kolejnosci, sortuje je zeby matplotlib dobrze wykreslil funkcje\n",
    "indexes=np.argsort(x_train)\n",
    "plt.plot(np.array(x_train)[indexes], np.array(y_train_func)[indexes], color='purple', label='Train curve(derived)')\n",
    "plt.legend()\n",
    "plt.show()"
   ]
  },
  {
   "cell_type": "markdown",
   "metadata": {},
   "source": [
    "Jak widać regresja wielomianowa (w tym wypadku stopnia 6) jest znaczaco lepsza od regresji liniowej, dla tych konkretnych danych wielkość błędu różni się 1 rzędem wielkości. Dokładna wartość oczywiście zależy od konkretnych danych treningowych i testowych, jednakże przy takim podziale zbioru jest to konsystentnie ponad 25krotnie mniejszy wynik. Na wykresach ta różnica jest jeszcze wyraźniejsza."
   ]
  }
 ],
 "metadata": {
  "language_info": {
   "codemirror_mode": {
    "name": "ipython",
    "version": 3
   },
   "file_extension": ".py",
   "mimetype": "text/x-python",
   "name": "python",
   "nbconvert_exporter": "python",
   "pygments_lexer": "ipython3",
   "version": "3.7.4-final"
  },
  "orig_nbformat": 2,
  "kernelspec": {
   "name": "python3",
   "display_name": "Python 3"
  }
 },
 "nbformat": 4,
 "nbformat_minor": 2
}