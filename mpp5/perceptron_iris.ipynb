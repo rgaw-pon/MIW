{
  "nbformat": 4,
  "nbformat_minor": 0,
  "metadata": {
    "colab": {
      "name": "perceptron_iris.ipynb",
      "provenance": [],
      "collapsed_sections": []
    },
    "kernelspec": {
      "name": "python3",
      "display_name": "Python 3"
    }
  },
  "cells": [
    {
      "cell_type": "markdown",
      "metadata": {
        "id": "zdsZFfagl7-k",
        "colab_type": "text"
      },
      "source": [
        "**Zadanie.** Na podstawie długości i szerokości płatka kosaćca (ang. Iris)\n",
        "wytrenuj Perceptron z biblioteki Sklearn do rozpoznawania odmiany Setosa."
      ]
    },
    {
      "cell_type": "code",
      "metadata": {
        "id": "LG00kG-9jNhN",
        "colab_type": "code",
        "colab": {}
      },
      "source": [
        "import numpy as np\n",
        "from sklearn.datasets import load_iris\n",
        "from sklearn.linear_model import Perceptron"
      ],
      "execution_count": 0,
      "outputs": []
    },
    {
      "cell_type": "code",
      "metadata": {
        "id": "noV1vR3UjYmi",
        "colab_type": "code",
        "colab": {}
      },
      "source": [
        "iris = load_iris()\n",
        "X = iris.data[:, (2,3)] # Do nauki wybieramy długość i szerokość płatka\n",
        "y = (iris.target == 0).astype(np.int) # Szukamy klasy Iris Setosa, \n",
        "                                      # kodujemy zbiór obiektów jako:\n",
        "                                      #   1 - klasa szukana\n",
        "                                      #   0 - inna klasa"
      ],
      "execution_count": 0,
      "outputs": []
    },
    {
      "cell_type": "code",
      "metadata": {
        "id": "4GZh9pgxkRys",
        "colab_type": "code",
        "colab": {
          "base_uri": "https://localhost:8080/",
          "height": 160
        },
        "outputId": "a06ae43a-f161-4ed5-80a9-bf9aa62e2f24"
      },
      "source": [
        "print(\"Feature size:\", len(X))\n",
        "print(\"Classes size:\", len(y))\n",
        "print(\"Classes:\\n\", y)"
      ],
      "execution_count": 22,
      "outputs": [
        {
          "output_type": "stream",
          "text": [
            "Feature size: 150\n",
            "Classes size: 150\n",
            "Classes:\n",
            " [1 1 1 1 1 1 1 1 1 1 1 1 1 1 1 1 1 1 1 1 1 1 1 1 1 1 1 1 1 1 1 1 1 1 1 1 1\n",
            " 1 1 1 1 1 1 1 1 1 1 1 1 1 0 0 0 0 0 0 0 0 0 0 0 0 0 0 0 0 0 0 0 0 0 0 0 0\n",
            " 0 0 0 0 0 0 0 0 0 0 0 0 0 0 0 0 0 0 0 0 0 0 0 0 0 0 0 0 0 0 0 0 0 0 0 0 0\n",
            " 0 0 0 0 0 0 0 0 0 0 0 0 0 0 0 0 0 0 0 0 0 0 0 0 0 0 0 0 0 0 0 0 0 0 0 0 0\n",
            " 0 0]\n"
          ],
          "name": "stdout"
        }
      ]
    },
    {
      "cell_type": "code",
      "metadata": {
        "id": "HqHHauxCjp_S",
        "colab_type": "code",
        "colab": {
          "base_uri": "https://localhost:8080/",
          "height": 88
        },
        "outputId": "9ee65e33-f1fa-4a74-d2a6-0b0f9867a77b"
      },
      "source": [
        "classifier = Perceptron(random_state=42)\n",
        "classifier.fit(X, y)"
      ],
      "execution_count": 5,
      "outputs": [
        {
          "output_type": "execute_result",
          "data": {
            "text/plain": [
              "Perceptron(alpha=0.0001, class_weight=None, early_stopping=False, eta0=1.0,\n",
              "           fit_intercept=True, max_iter=1000, n_iter_no_change=5, n_jobs=None,\n",
              "           penalty=None, random_state=42, shuffle=True, tol=0.001,\n",
              "           validation_fraction=0.1, verbose=0, warm_start=False)"
            ]
          },
          "metadata": {
            "tags": []
          },
          "execution_count": 5
        }
      ]
    },
    {
      "cell_type": "code",
      "metadata": {
        "id": "3uezt1BQj0L8",
        "colab_type": "code",
        "colab": {
          "base_uri": "https://localhost:8080/",
          "height": 35
        },
        "outputId": "8564433b-a185-422e-8ae3-ccdeecf1670d"
      },
      "source": [
        "y_pred = classifier.predict([[2, 0.5]]) # wynik pomiaru długości \n",
        "                                        # i szerokości płatka\n",
        "print('Iris Setosa' if y_pred == 1 else 'Not Iris Setosa')"
      ],
      "execution_count": 27,
      "outputs": [
        {
          "output_type": "stream",
          "text": [
            "Iris Setosa\n"
          ],
          "name": "stdout"
        }
      ]
    }
  ]
}